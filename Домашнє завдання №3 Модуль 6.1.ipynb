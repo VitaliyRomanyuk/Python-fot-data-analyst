{
 "cells": [
  {
   "cell_type": "markdown",
   "id": "a7497271-a80f-475f-ac91-74fb5987a45d",
   "metadata": {},
   "source": [
    "Домашнє завдання №2"
   ]
  },
  {
   "cell_type": "markdown",
   "id": "d23d8c82-9189-4183-af8d-559ab761360f",
   "metadata": {},
   "source": [
    "1. Скільки різних паролів можна скласти, використовуючи три літери англійського алфавіту, якщо літери не повинні повторюватися?"
   ]
  },
  {
   "cell_type": "markdown",
   "id": "6cdd00c2-6235-4735-8d3b-173c7d0f22bf",
   "metadata": {},
   "source": [
    "В даному випадку ми можемо використати формулу P(n,r) = n!/(n-r)!, n = 26 (кількість літер в англійському алфавіті), r = 3"
   ]
  },
  {
   "cell_type": "code",
   "execution_count": 13,
   "id": "97f1cf6c-03ec-460d-8ef1-8e5c32bc144d",
   "metadata": {},
   "outputs": [
    {
     "name": "stdout",
     "output_type": "stream",
     "text": [
      "15600\n"
     ]
    }
   ],
   "source": [
    "import math\n",
    "\n",
    "n = 26\n",
    "r = 3\n",
    "P = math.factorial(n) // math.factorial(n - r)\n",
    "print(P)"
   ]
  },
  {
   "cell_type": "markdown",
   "id": "b8c4adcf-50a0-4ac8-b487-a3add9a512df",
   "metadata": {},
   "source": [
    "Відповідь: 15600 різних паролів можна скласти, використовуючи три літери англійського алфавіту, якщо літери не повторюються."
   ]
  },
  {
   "cell_type": "markdown",
   "id": "d34b7de2-22f8-41fb-a9d9-711efad6c020",
   "metadata": {},
   "source": [
    "1. Є група з 8 людей. Скількома способами можна обрати комітет із 3 осіб?"
   ]
  },
  {
   "cell_type": "markdown",
   "id": "82081dc4-7453-4991-95e1-82a41b1a993d",
   "metadata": {},
   "source": [
    "В даному випадку ми можемо використати формулу P(n,r) = n!/((n-r)!*r!), оскільки порядок розмщення немає значення, n = 8, r = 3"
   ]
  },
  {
   "cell_type": "code",
   "execution_count": 17,
   "id": "5b1e9b32-5360-432c-90fb-afe505dc3f5f",
   "metadata": {},
   "outputs": [
    {
     "name": "stdout",
     "output_type": "stream",
     "text": [
      "56\n"
     ]
    }
   ],
   "source": [
    "n = 8\n",
    "r = 3\n",
    "P = math.factorial(n) // (math.factorial(n - r) * math.factorial(r))\n",
    "print(P)"
   ]
  },
  {
   "cell_type": "markdown",
   "id": "88890afc-b0ba-40ab-8211-b7c70c356a54",
   "metadata": {},
   "source": [
    "Відповідь: 56 способами можна обрати комітет із 3 осіб."
   ]
  },
  {
   "cell_type": "markdown",
   "id": "12a77fb3-8c7c-43be-9e12-9ca2361b2140",
   "metadata": {},
   "source": [
    "3. Скількома різними способами можна розташувати на полиці 5 різних книг?"
   ]
  },
  {
   "cell_type": "markdown",
   "id": "7af24976-f9c1-41af-be26-9a8c54b66908",
   "metadata": {},
   "source": [
    "В даному випадку ми можемо використати формулу P = n!, n = 5"
   ]
  },
  {
   "cell_type": "code",
   "execution_count": 19,
   "id": "8a9cfa00-72b9-46a5-aa50-f21b2c429eac",
   "metadata": {},
   "outputs": [
    {
     "name": "stdout",
     "output_type": "stream",
     "text": [
      "120\n"
     ]
    }
   ],
   "source": [
    "n = 5\n",
    "P = math.factorial(n)\n",
    "print(P)"
   ]
  },
  {
   "cell_type": "markdown",
   "id": "ab5413fa-5d36-4de6-ba75-90048392e205",
   "metadata": {},
   "source": [
    "Відповідь: 120 різними способами можна розташувати на полиці 5 різних книг."
   ]
  },
  {
   "cell_type": "markdown",
   "id": "8f0c2a39-8fc6-4b2f-985b-66f408f8b7a5",
   "metadata": {},
   "source": [
    "4. В урні знаходяться 4 червоні, 3 сині і 2 зелені кулі. Скількома способами можна витягти 3 кулі, якщо вони повинні бути різних кольорів?"
   ]
  },
  {
   "cell_type": "markdown",
   "id": "e9f20b0e-417b-4ed8-af41-b4cf75d695c0",
   "metadata": {},
   "source": [
    "варіант № 1: Ми можемо зазстосувати правило добутку: 4*3*2 = 24\n",
    "В нас буде 24 способа щоб витягти 3 кулі різних кольорів і при цьому порядок їх розміщення має значення.\n",
    "варіант № 2: Якщо порядок їх розміщення не має значення:\n",
    "то 24 способи скорочуємо на кількість перестановок 3 куль (3! = 3*2*1 = 6), 24 / 6 = 4"
   ]
  },
  {
   "cell_type": "markdown",
   "id": "681b534f-8f19-4ae2-9f0e-d3a85f638b54",
   "metadata": {},
   "source": [
    "Відповідь 1: 24 способами можна витягти 3 кулі, якщо вони повинні бути різних кольорів і їх розміщення має значення.\n",
    "Відповідь 2: 4 способами можна витягти 3 кулі, якщо вони повинні бути різних кольорів і їх розміщення не має значення."
   ]
  }
 ],
 "metadata": {
  "kernelspec": {
   "display_name": "Python 3 (ipykernel)",
   "language": "python",
   "name": "python3"
  },
  "language_info": {
   "codemirror_mode": {
    "name": "ipython",
    "version": 3
   },
   "file_extension": ".py",
   "mimetype": "text/x-python",
   "name": "python",
   "nbconvert_exporter": "python",
   "pygments_lexer": "ipython3",
   "version": "3.12.4"
  }
 },
 "nbformat": 4,
 "nbformat_minor": 5
}
